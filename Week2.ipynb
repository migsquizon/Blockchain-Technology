{
 "cells": [
  {
   "cell_type": "code",
   "execution_count": 133,
   "metadata": {},
   "outputs": [],
   "source": [
    "import json\n",
    "import base64\n",
    "\n",
    "\n",
    "class Transaction(object):\n",
    "    \n",
    "    def __init__(self,sender,receiver,amount,comment):\n",
    "        self.sender = sender\n",
    "        self.receiver = receiver\n",
    "        self.amount = amount\n",
    "        self.comment = comment\n",
    "        self.signature = None\n",
    "        \n",
    "    def __eq__(self,transaction):\n",
    "        if self.sender == transaction.sender and self.receiver==transaction.receiver and self.amount==transaction.amount:\n",
    "            return True\n",
    "        return False\n",
    "        \n",
    "    @classmethod\n",
    "    def new(self,sender,receiver,amount,comment):\n",
    "        t1 = Transaction(sender,receiver,amount,comment)\n",
    "        return t1\n",
    "        \n",
    "    \n",
    "    def serialize(self):\n",
    "        props = {}\n",
    "        props[\"receiver\"] = base64.encodebytes(self.receiver.to_string()).decode('ascii')\n",
    "        props[\"sender\"] =  base64.encodebytes(self.sender.to_string()).decode('ascii')\n",
    "        props[\"amount\"] = self.amount\n",
    "        props[\"comment\"] = self.comment\n",
    "        return json.dumps(props)\n",
    "    \n",
    "    @classmethod\n",
    "    def deserialize(self,js_string):\n",
    "        obj = json.loads(js_string)\n",
    "        obj['sender'] = obj['sender'].encode('ascii')\n",
    "        obj['receiver'] = obj['receiver'].encode('ascii')\n",
    "        result = Transaction(VerifyingKey.from_string(base64.decodebytes(obj['sender']),curve=NIST384p),VerifyingKey.from_string(base64.decodebytes(obj['receiver']),curve=NIST384p),obj['amount'],obj['comment'])\n",
    "        return result \n",
    "        \n",
    "    def sign(self,priv_key):\n",
    "        s = self.serialize().encode()\n",
    "        print(s)\n",
    "        sig = priv_key.sign(s)\n",
    "        print('finished signing')\n",
    "        self.signature = sig\n",
    "        return sig\n",
    "    \n",
    "    def validate(self):\n",
    "        assert self.sender.verify(self.signature, self.serialize().encode()),\"validation failed\"\n",
    "        print('finished validating')\n",
    "        return\n",
    "        \n",
    "        \n",
    "    \n",
    "\n",
    "        \n",
    "\n"
   ]
  },
  {
   "cell_type": "code",
   "execution_count": 134,
   "metadata": {},
   "outputs": [],
   "source": [
    "from ecdsa import SigningKey, VerifyingKey , NIST384p\n",
    "sender_private = SigningKey.generate(NIST384p) \n",
    "sender_public = sender_private.verifying_key"
   ]
  },
  {
   "cell_type": "code",
   "execution_count": 135,
   "metadata": {},
   "outputs": [],
   "source": [
    "rec_private = SigningKey.generate(NIST384p) \n",
    "rec_public = rec_private.verifying_key"
   ]
  },
  {
   "cell_type": "code",
   "execution_count": 136,
   "metadata": {},
   "outputs": [],
   "source": [
    "Trans = Transaction.new(sender_public,rec_public,100,'base transaction')\n"
   ]
  },
  {
   "cell_type": "code",
   "execution_count": 137,
   "metadata": {},
   "outputs": [
    {
     "name": "stdout",
     "output_type": "stream",
     "text": [
      "True\n"
     ]
    }
   ],
   "source": [
    "json1 = Trans.serialize()\n",
    "json1_des = Trans.deserialize(json1)\n",
    "# print(Trans.receiver)\n",
    "# print(json1_des.receiver)\n",
    "print(Trans==json1_des)"
   ]
  },
  {
   "cell_type": "code",
   "execution_count": 138,
   "metadata": {},
   "outputs": [
    {
     "name": "stdout",
     "output_type": "stream",
     "text": [
      "b'{\"receiver\": \"pjJQ0K+5gqYH5Cym4Yo/hVXl5DEYjN3Zij2dzYlDXCvMimEpTjfaoZLFt/9L0vRTlxTyAZTq3L1s\\\\nGKhaPla6q5NsJ1FL9Bto4rK/1eOa9cbWbKOHQe4Ggh344N4mr+6P\\\\n\", \"sender\": \"kZ33XvQ7tQIHO72BweC1axKizAaHpgCslBjFatTzMHoxJffPDJrg6jB74BNrr+GnZGund28enUBd\\\\n9xhn4TLfDxuPk5IPSJfyeX57DHTloYJMeNrB+fqHHYCrEtvyZl60\\\\n\", \"amount\": 100, \"comment\": \"base transaction\"}'\n",
      "finished signing\n"
     ]
    },
    {
     "data": {
      "text/plain": [
       "b\"\\x15Dz\\x97\\x83\\x0bM'\\xb8\\x8d7\\x8c\\xff\\xaf\\x8cG\\xb1.\\x90\\x075T@\\xf5\\xc0\\x813\\xe8\\xc0m\\xda\\xe5xSgY\\n\\x05\\x85F[\\xf2B\\xdd\\x17n\\xe5\\xe7\\x92\\x13\\x9c\\xca\\xf9\\x8f\\xabt:\\xcbg\\x9e\\xc8\\xea\\x17N\\xfe\\xed\\x9f7<\\x99\\xa5\\xd8\\x90\\x07[\\xd1\\x89@\\x92/\\x86\\x1a\\x95\\xf77&cR9\\xc2fZ\\x070\\xdc\\xa3\""
      ]
     },
     "execution_count": 138,
     "metadata": {},
     "output_type": "execute_result"
    }
   ],
   "source": [
    "Trans.sign(sender_private)"
   ]
  },
  {
   "cell_type": "code",
   "execution_count": 139,
   "metadata": {},
   "outputs": [
    {
     "name": "stdout",
     "output_type": "stream",
     "text": [
      "finished validating\n"
     ]
    }
   ],
   "source": [
    "Trans.validate()"
   ]
  },
  {
   "cell_type": "code",
   "execution_count": null,
   "metadata": {},
   "outputs": [],
   "source": []
  }
 ],
 "metadata": {
  "kernelspec": {
   "display_name": "Python 3",
   "language": "python",
   "name": "python3"
  },
  "language_info": {
   "codemirror_mode": {
    "name": "ipython",
    "version": 3
   },
   "file_extension": ".py",
   "mimetype": "text/x-python",
   "name": "python",
   "nbconvert_exporter": "python",
   "pygments_lexer": "ipython3",
   "version": "3.6.4"
  }
 },
 "nbformat": 4,
 "nbformat_minor": 2
}
