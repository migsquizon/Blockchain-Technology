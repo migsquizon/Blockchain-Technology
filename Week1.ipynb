{
 "cells": [
  {
   "cell_type": "code",
   "execution_count": 22,
   "metadata": {},
   "outputs": [],
   "source": [
    "import hashlib\n",
    "import time"
   ]
  },
  {
   "cell_type": "code",
   "execution_count": 7,
   "metadata": {},
   "outputs": [],
   "source": [
    "st = b\"Blockchain Technology\""
   ]
  },
  {
   "cell_type": "code",
   "execution_count": 14,
   "metadata": {},
   "outputs": [
    {
     "data": {
      "text/plain": [
       "'cb4025a30ab13d675d4b0b08122c355a5b76d22f46a5fe1d34dc99aa'"
      ]
     },
     "execution_count": 14,
     "metadata": {},
     "output_type": "execute_result"
    }
   ],
   "source": [
    "hashlib.sha224(st).hexdigest()"
   ]
  },
  {
   "cell_type": "code",
   "execution_count": 16,
   "metadata": {},
   "outputs": [],
   "source": [
    "sha_256 = hashlib.sha256(st).hexdigest()\n",
    "sha_512 = hashlib.sha512(st).hexdigest()\n",
    "sha3_512 = hashlib.sha3_512(st).hexdigest()\n",
    "sha3_256 =hashlib.sha3_256(st).hexdigest()"
   ]
  },
  {
   "cell_type": "code",
   "execution_count": 18,
   "metadata": {},
   "outputs": [
    {
     "name": "stdout",
     "output_type": "stream",
     "text": [
      "b21b9e93f14f980f00dd3d4e45000c7ad6ee41be450f968e36319fd527053eef294ea9311d8d4d6647d1f17a1cef338826b5cccb93f43098657c6569f9b2c54b\n"
     ]
    }
   ],
   "source": [
    "print(sha_512)"
   ]
  },
  {
   "cell_type": "code",
   "execution_count": null,
   "metadata": {},
   "outputs": [],
   "source": [
    "def hash(n,msg):\n",
    "    start_time = time.time()\n",
    "    storage = []\n",
    "    sha_256 = hashlib.sha256(msg).hexdigest()\n",
    "    while(sha_256[:n] not in storage):\n",
    "        rando = randomString().encode('utf-8')\n",
    "        rand_hash = hashlib.sha256(rando).hexdigest()\n",
    "        storage.append(rand_hash[:n])\n",
    "#         print(storage)\n",
    "    storage.append(rand_hash)\n",
    "    elapsed_time = time.time() - start_time\n",
    "    return sha_256[:n],elapsed_time\n",
    "    \n",
    "print(hash(3,st))"
   ]
  },
  {
   "cell_type": "code",
   "execution_count": 40,
   "metadata": {},
   "outputs": [],
   "source": [
    "import random\n",
    "import string\n",
    "\n",
    "def randomString(stringLength=10):\n",
    "    \"\"\"Generate a random string of fixed length \"\"\"\n",
    "    letters = string.ascii_lowercase\n",
    "    return ''.join(random.choice(letters) for i in range(stringLength))"
   ]
  },
  {
   "cell_type": "code",
   "execution_count": 77,
   "metadata": {},
   "outputs": [
    {
     "name": "stdout",
     "output_type": "stream",
     "text": [
      "b'9O'\n",
      "b'\\x00\\x00\\x00'\n"
     ]
    },
    {
     "ename": "KeyboardInterrupt",
     "evalue": "",
     "output_type": "error",
     "traceback": [
      "\u001b[0;31m---------------------------------------------------------------------------\u001b[0m",
      "\u001b[0;31mKeyboardInterrupt\u001b[0m                         Traceback (most recent call last)",
      "\u001b[0;32m<ipython-input-77-a25eece5ee1a>\u001b[0m in \u001b[0;36m<module>\u001b[0;34m()\u001b[0m\n\u001b[1;32m     14\u001b[0m     \u001b[0;32mreturn\u001b[0m \u001b[0mrando\u001b[0m\u001b[0;34m.\u001b[0m\u001b[0mdecode\u001b[0m\u001b[0;34m(\u001b[0m\u001b[0;34m)\u001b[0m\u001b[0;34m,\u001b[0m\u001b[0melapsed_time\u001b[0m\u001b[0;34m\u001b[0m\u001b[0m\n\u001b[1;32m     15\u001b[0m \u001b[0;34m\u001b[0m\u001b[0m\n\u001b[0;32m---> 16\u001b[0;31m \u001b[0mprint\u001b[0m\u001b[0;34m(\u001b[0m\u001b[0mpreimage\u001b[0m\u001b[0;34m(\u001b[0m\u001b[0;36m2\u001b[0m\u001b[0;34m,\u001b[0m\u001b[0;34mb\"\\x00\"\u001b[0m\u001b[0;34m*\u001b[0m\u001b[0;36m3\u001b[0m\u001b[0;34m)\u001b[0m\u001b[0;34m)\u001b[0m\u001b[0;34m\u001b[0m\u001b[0m\n\u001b[0m",
      "\u001b[0;32m<ipython-input-77-a25eece5ee1a>\u001b[0m in \u001b[0;36mpreimage\u001b[0;34m(n, hashing)\u001b[0m\n\u001b[1;32m      6\u001b[0m     \u001b[0mprint\u001b[0m\u001b[0;34m(\u001b[0m\u001b[0mhashing\u001b[0m\u001b[0;34m)\u001b[0m\u001b[0;34m\u001b[0m\u001b[0m\n\u001b[1;32m      7\u001b[0m     \u001b[0;32mwhile\u001b[0m\u001b[0;34m(\u001b[0m\u001b[0mrand_hash\u001b[0m\u001b[0;34m[\u001b[0m\u001b[0;34m:\u001b[0m\u001b[0mn\u001b[0m\u001b[0;34m*\u001b[0m\u001b[0;36m4\u001b[0m\u001b[0;34m:\u001b[0m\u001b[0;36m4\u001b[0m\u001b[0;34m]\u001b[0m \u001b[0;34m!=\u001b[0m \u001b[0mhashing\u001b[0m\u001b[0;34m)\u001b[0m\u001b[0;34m:\u001b[0m\u001b[0;34m\u001b[0m\u001b[0m\n\u001b[0;32m----> 8\u001b[0;31m         \u001b[0mrando\u001b[0m \u001b[0;34m=\u001b[0m \u001b[0mrandomString\u001b[0m\u001b[0;34m(\u001b[0m\u001b[0;34m)\u001b[0m\u001b[0;34m.\u001b[0m\u001b[0mencode\u001b[0m\u001b[0;34m(\u001b[0m\u001b[0;34m'utf-8'\u001b[0m\u001b[0;34m)\u001b[0m\u001b[0;34m\u001b[0m\u001b[0m\n\u001b[0m\u001b[1;32m      9\u001b[0m         \u001b[0mrand_hash\u001b[0m \u001b[0;34m=\u001b[0m \u001b[0mhashlib\u001b[0m\u001b[0;34m.\u001b[0m\u001b[0msha256\u001b[0m\u001b[0;34m(\u001b[0m\u001b[0mrando\u001b[0m\u001b[0;34m)\u001b[0m\u001b[0;34m.\u001b[0m\u001b[0mdigest\u001b[0m\u001b[0;34m(\u001b[0m\u001b[0;34m)\u001b[0m\u001b[0;34m\u001b[0m\u001b[0m\n\u001b[1;32m     10\u001b[0m \u001b[0;31m#         print(rando)\u001b[0m\u001b[0;34m\u001b[0m\u001b[0;34m\u001b[0m\u001b[0m\n",
      "\u001b[0;32m<ipython-input-40-178a55130f06>\u001b[0m in \u001b[0;36mrandomString\u001b[0;34m(stringLength)\u001b[0m\n\u001b[1;32m      5\u001b[0m     \u001b[0;34m\"\"\"Generate a random string of fixed length \"\"\"\u001b[0m\u001b[0;34m\u001b[0m\u001b[0m\n\u001b[1;32m      6\u001b[0m     \u001b[0mletters\u001b[0m \u001b[0;34m=\u001b[0m \u001b[0mstring\u001b[0m\u001b[0;34m.\u001b[0m\u001b[0mascii_lowercase\u001b[0m\u001b[0;34m\u001b[0m\u001b[0m\n\u001b[0;32m----> 7\u001b[0;31m     \u001b[0;32mreturn\u001b[0m \u001b[0;34m''\u001b[0m\u001b[0;34m.\u001b[0m\u001b[0mjoin\u001b[0m\u001b[0;34m(\u001b[0m\u001b[0mrandom\u001b[0m\u001b[0;34m.\u001b[0m\u001b[0mchoice\u001b[0m\u001b[0;34m(\u001b[0m\u001b[0mletters\u001b[0m\u001b[0;34m)\u001b[0m \u001b[0;32mfor\u001b[0m \u001b[0mi\u001b[0m \u001b[0;32min\u001b[0m \u001b[0mrange\u001b[0m\u001b[0;34m(\u001b[0m\u001b[0mstringLength\u001b[0m\u001b[0;34m)\u001b[0m\u001b[0;34m)\u001b[0m\u001b[0;34m\u001b[0m\u001b[0m\n\u001b[0m",
      "\u001b[0;32m<ipython-input-40-178a55130f06>\u001b[0m in \u001b[0;36m<genexpr>\u001b[0;34m(.0)\u001b[0m\n\u001b[1;32m      5\u001b[0m     \u001b[0;34m\"\"\"Generate a random string of fixed length \"\"\"\u001b[0m\u001b[0;34m\u001b[0m\u001b[0m\n\u001b[1;32m      6\u001b[0m     \u001b[0mletters\u001b[0m \u001b[0;34m=\u001b[0m \u001b[0mstring\u001b[0m\u001b[0;34m.\u001b[0m\u001b[0mascii_lowercase\u001b[0m\u001b[0;34m\u001b[0m\u001b[0m\n\u001b[0;32m----> 7\u001b[0;31m     \u001b[0;32mreturn\u001b[0m \u001b[0;34m''\u001b[0m\u001b[0;34m.\u001b[0m\u001b[0mjoin\u001b[0m\u001b[0;34m(\u001b[0m\u001b[0mrandom\u001b[0m\u001b[0;34m.\u001b[0m\u001b[0mchoice\u001b[0m\u001b[0;34m(\u001b[0m\u001b[0mletters\u001b[0m\u001b[0;34m)\u001b[0m \u001b[0;32mfor\u001b[0m \u001b[0mi\u001b[0m \u001b[0;32min\u001b[0m \u001b[0mrange\u001b[0m\u001b[0;34m(\u001b[0m\u001b[0mstringLength\u001b[0m\u001b[0;34m)\u001b[0m\u001b[0;34m)\u001b[0m\u001b[0;34m\u001b[0m\u001b[0m\n\u001b[0m",
      "\u001b[0;32m/anaconda3/lib/python3.6/random.py\u001b[0m in \u001b[0;36mchoice\u001b[0;34m(self, seq)\u001b[0m\n\u001b[1;32m    254\u001b[0m         \u001b[0;34m\"\"\"Choose a random element from a non-empty sequence.\"\"\"\u001b[0m\u001b[0;34m\u001b[0m\u001b[0m\n\u001b[1;32m    255\u001b[0m         \u001b[0;32mtry\u001b[0m\u001b[0;34m:\u001b[0m\u001b[0;34m\u001b[0m\u001b[0m\n\u001b[0;32m--> 256\u001b[0;31m             \u001b[0mi\u001b[0m \u001b[0;34m=\u001b[0m \u001b[0mself\u001b[0m\u001b[0;34m.\u001b[0m\u001b[0m_randbelow\u001b[0m\u001b[0;34m(\u001b[0m\u001b[0mlen\u001b[0m\u001b[0;34m(\u001b[0m\u001b[0mseq\u001b[0m\u001b[0;34m)\u001b[0m\u001b[0;34m)\u001b[0m\u001b[0;34m\u001b[0m\u001b[0m\n\u001b[0m\u001b[1;32m    257\u001b[0m         \u001b[0;32mexcept\u001b[0m \u001b[0mValueError\u001b[0m\u001b[0;34m:\u001b[0m\u001b[0;34m\u001b[0m\u001b[0m\n\u001b[1;32m    258\u001b[0m             \u001b[0;32mraise\u001b[0m \u001b[0mIndexError\u001b[0m\u001b[0;34m(\u001b[0m\u001b[0;34m'Cannot choose from an empty sequence'\u001b[0m\u001b[0;34m)\u001b[0m \u001b[0;32mfrom\u001b[0m \u001b[0;32mNone\u001b[0m\u001b[0;34m\u001b[0m\u001b[0m\n",
      "\u001b[0;32m/anaconda3/lib/python3.6/random.py\u001b[0m in \u001b[0;36m_randbelow\u001b[0;34m(self, n, int, maxsize, type, Method, BuiltinMethod)\u001b[0m\n\u001b[1;32m    232\u001b[0m             \u001b[0mk\u001b[0m \u001b[0;34m=\u001b[0m \u001b[0mn\u001b[0m\u001b[0;34m.\u001b[0m\u001b[0mbit_length\u001b[0m\u001b[0;34m(\u001b[0m\u001b[0;34m)\u001b[0m  \u001b[0;31m# don't use (n-1) here because n can be 1\u001b[0m\u001b[0;34m\u001b[0m\u001b[0m\n\u001b[1;32m    233\u001b[0m             \u001b[0mr\u001b[0m \u001b[0;34m=\u001b[0m \u001b[0mgetrandbits\u001b[0m\u001b[0;34m(\u001b[0m\u001b[0mk\u001b[0m\u001b[0;34m)\u001b[0m          \u001b[0;31m# 0 <= r < 2**k\u001b[0m\u001b[0;34m\u001b[0m\u001b[0m\n\u001b[0;32m--> 234\u001b[0;31m             \u001b[0;32mwhile\u001b[0m \u001b[0mr\u001b[0m \u001b[0;34m>=\u001b[0m \u001b[0mn\u001b[0m\u001b[0;34m:\u001b[0m\u001b[0;34m\u001b[0m\u001b[0m\n\u001b[0m\u001b[1;32m    235\u001b[0m                 \u001b[0mr\u001b[0m \u001b[0;34m=\u001b[0m \u001b[0mgetrandbits\u001b[0m\u001b[0;34m(\u001b[0m\u001b[0mk\u001b[0m\u001b[0;34m)\u001b[0m\u001b[0;34m\u001b[0m\u001b[0m\n\u001b[1;32m    236\u001b[0m             \u001b[0;32mreturn\u001b[0m \u001b[0mr\u001b[0m\u001b[0;34m\u001b[0m\u001b[0m\n",
      "\u001b[0;31mKeyboardInterrupt\u001b[0m: "
     ]
    }
   ],
   "source": [
    "def preimage(n,hashing):\n",
    "    start_time = time.time()\n",
    "    rando = randomString().encode('utf-8')\n",
    "    rand_hash = hashlib.sha256(rando).digest()\n",
    "    print(rand_hash[:n*4:4])\n",
    "    print(hashing)\n",
    "    while(rand_hash[:n*4:4] != hashing):\n",
    "        rando = randomString().encode('utf-8')\n",
    "        rand_hash = hashlib.sha256(rando).digest()\n",
    "#         print(rando)\n",
    "#         print(rand_hash)\n",
    "        \n",
    "    elapsed_time = time.time() - start_time\n",
    "    return rando.decode(),elapsed_time\n",
    "\n",
    "print(preimage(2,b\"\\x00\"*3))"
   ]
  },
  {
   "cell_type": "code",
   "execution_count": 61,
   "metadata": {},
   "outputs": [
    {
     "name": "stdout",
     "output_type": "stream",
     "text": [
      "b'\\xad'\n"
     ]
    }
   ],
   "source": [
    "sha_256 = hashlib.sha256(st).digest()\n",
    "print(sha_256[:4:4])"
   ]
  },
  {
   "cell_type": "code",
   "execution_count": 4,
   "metadata": {},
   "outputs": [],
   "source": [
    "from ecdsa import SigningKey\n",
    "sk = SigningKey.generate() # uses NIST192p\n",
    "vk = sk.verifying_key\n",
    "signature = sk.sign(b\"Blockchain Technology\")\n",
    "assert vk.verify(signature, b\"Blockchain Technology\")"
   ]
  },
  {
   "cell_type": "code",
   "execution_count": 328,
   "metadata": {},
   "outputs": [],
   "source": [
    "import json\n",
    "import base64\n",
    "\n",
    "\n",
    "class Transaction(object):\n",
    "    \n",
    "    def __init__(self,sender,receiver,amount,comment,signature):\n",
    "        self.sender = sender\n",
    "        self.receiver = receiver\n",
    "        self.amount = amount\n",
    "        self.comment = comment\n",
    "        self.signature = signature\n",
    "        \n",
    "    def __eq__(self,transaction):\n",
    "        if self.sender == transaction.sender and self.receiver==transaction.receiver and self.amount==transaction.amount:\n",
    "            return True\n",
    "        return False\n",
    "        \n",
    "    @classmethod\n",
    "    def new(self,sender,receiver,amount,comment,signature):\n",
    "        t1 = Transaction(sender,receiver,amount,comment,signature)\n",
    "        return t1\n",
    "        \n",
    "    \n",
    "    def serialize(self):\n",
    "        props = {}\n",
    "        props[\"receiver\"] = self.receiver\n",
    "        props[\"sender\"] =  base64.encodebytes(self.sender.to_string()).decode('ascii')\n",
    "        props[\"amount\"] = self.amount\n",
    "        props[\"comment\"] = self.comment\n",
    "        props[\"signature\"] = self.signature\n",
    "        return json.dumps(props)\n",
    "    \n",
    "    @classmethod\n",
    "    def deserialize(self,js_string):\n",
    "        obj = json.loads(js_string)\n",
    "        obj['sender'] = obj['sender'].encode('ascii')\n",
    "#         obj['signature'] = obj['signature'].encode('ascii')\n",
    "        result = Transaction(VerifyingKey.from_string(base64.decodebytes(obj['sender']),curve=NIST384p),obj['receiver'],obj['amount'],obj['comment'],obj['signature'])\n",
    "        return result \n",
    "        \n",
    "    def sign(self,priv_key):\n",
    "        s = self.serialize().encode()\n",
    "        print(s)\n",
    "        sig = priv_key.sign(s)\n",
    "        print('finished signing')\n",
    "        return sig\n",
    "    \n",
    "    def validate(self,sig):\n",
    "        assert self.sender.verify(sig, self.serialize().encode()),\"validation failed\"\n",
    "        print('finished validating')\n",
    "        return\n",
    "        \n",
    "        \n",
    "    \n",
    "\n",
    "        \n",
    "\n"
   ]
  },
  {
   "cell_type": "code",
   "execution_count": 336,
   "metadata": {},
   "outputs": [
    {
     "name": "stdout",
     "output_type": "stream",
     "text": [
      "True\n"
     ]
    }
   ],
   "source": [
    "# Trans = Transaction('send','rec','amt','comment','sign')\n",
    "from ecdsa import SigningKey, VerifyingKey , NIST384p\n",
    "sk = SigningKey.generate(NIST384p) # uses NIST192p\n",
    "vk = sk.verifying_key\n",
    "Trans = Transaction(vk,'rec','amt','comment','sign')\n",
    "json1 = Trans.serialize()\n",
    "json1_des = Trans.deserialize(json1)\n",
    "print(Trans==json1_des)"
   ]
  },
  {
   "cell_type": "code",
   "execution_count": 337,
   "metadata": {},
   "outputs": [
    {
     "name": "stdout",
     "output_type": "stream",
     "text": [
      "b'{\"receiver\": \"rec\", \"sender\": \"F9A0d4N0LNgViGTzUMmqSLW8yeVgekZxAPp5luNyfyMcQfUyMRhRqunFiS7x1Y3CGNcio+e5VOSd\\\\nhbNL0BBRrzfkdbOR8TLTT6pTR35PnV+osmUUlCYkDfZ1b8dgopKp\\\\n\", \"amount\": \"amt\", \"comment\": \"comment\", \"signature\": \"sign\"}'\n",
      "finished signing\n",
      "finished validating\n",
      "None\n"
     ]
    }
   ],
   "source": [
    "sig = Trans.sign(sk)\n",
    "# fake_trans = Transaction(vk,'asd','asd','asdt','sign')\n",
    "# fake_sig = fake_trans.sign(sk)\n",
    "print(Trans.validate(sig))"
   ]
  },
  {
   "cell_type": "code",
   "execution_count": null,
   "metadata": {},
   "outputs": [],
   "source": []
  },
  {
   "cell_type": "code",
   "execution_count": 234,
   "metadata": {},
   "outputs": [
    {
     "name": "stdout",
     "output_type": "stream",
     "text": [
      "Merkle Tree for testA: \n",
      " testA\n",
      "------------------------------\n",
      "{'': ['testA', {}]}\n",
      "Merkle Tree for testB: \n",
      " testB\n",
      "------------------------------\n",
      "Top hash is equal for testA and testB\n"
     ]
    }
   ],
   "source": [
    "import os\n",
    "import hashlib\n",
    "\n",
    "class MarkleTree:\n",
    "    def __init__(self, root):\n",
    "        self._linelength = 30\n",
    "        self._root = root\n",
    "        self._mt = {}\n",
    "        self._hashlist = {}\n",
    "        self._tophash = ''\n",
    "        self.__MT__()\n",
    "\n",
    "    def Line(self):\n",
    "        print(self._linelength*'-')\n",
    "\n",
    "    def PrintHashList(self):\n",
    "        self.Line()\n",
    "        for item, itemhash in self._hashlist.items():\n",
    "            print(\"%s %s\" % (itemhash, item))\n",
    "        self.Line()\n",
    "        return\n",
    "\n",
    "    def PrintMT(self, hash):\n",
    "        value = self._mt[hash]\n",
    "        item = value[0]\n",
    "        child = value[1]\n",
    "        print(\"%s %s\" % (hash, item))\n",
    "        if not child:\n",
    "            return\n",
    "        for itemhash, item in child.items():  \n",
    "            print(\"    -> %s %s\" % (itemhash, item))\n",
    "        for itemhash, item in child.items():  \n",
    "            self.PrintMT(itemhash)\n",
    "\n",
    "    def MT(self):\n",
    "        for node, hash in self._hashlist.items():\n",
    "            items = self.GetItems(node)\n",
    "            value = []\n",
    "            value.append(node)\n",
    "            list = {}\n",
    "            for item in items:\n",
    "                if node == self._root:\n",
    "                    list[self._hashlist[item]] = item\n",
    "                else: \n",
    "                    list[self._hashlist[os.path.join(node, item)]] = os.path.join(node, item)\n",
    "            value.append(list)\n",
    "            self._mt[hash] = value\n",
    "        self._tophash = self._hashlist[self._root]\n",
    "\n",
    "    def __MT__(self):\n",
    "        self.HashList(self._root)\n",
    "        #self.PrintHashList()\n",
    "        self.MT()\n",
    "        print(\"Merkle Tree for %s: \" % self._root)\n",
    "        self.PrintMT(self._tophash)\n",
    "        self.Line()\n",
    "\n",
    "    def md5sum(self, data):\n",
    "        m = hashlib.md5()\n",
    "        fn = os.path.join(self._root, data)\n",
    "        if os.path.isfile(fn):\n",
    "            try:   \n",
    "                f = file(fn, 'rb')\n",
    "            except:\n",
    "                return 'ERROR: unable to open %s' % fn\n",
    "            while True:\n",
    "                d = f.read(8096)\n",
    "                if not d:\n",
    "                    break\n",
    "                m.update(d)\n",
    "            f.close()\n",
    "        else:\n",
    "            m.update(data)\n",
    "        return m.hexdigest()\n",
    "\n",
    "    def GetItems(self, directory):\n",
    "        value = []\n",
    "        if directory != self._root:\n",
    "            directory = os.path.join(self._root, directory)\n",
    "        if os.path.isdir(directory):\n",
    "            items = os.listdir(directory)\n",
    "            for item in items:\n",
    "                value.append(item)\n",
    "                #value.append(os.path.join(\".\", item))\n",
    "            value.sort()\n",
    "        return value\n",
    "    \n",
    "    def HashList(self, rootdir):\n",
    "        self.HashListChild(rootdir)\n",
    "        items = self.GetItems(rootdir)\n",
    "        if not items:\n",
    "            self._hashlist[rootdir] = ''\n",
    "            return\n",
    "        s = ''\n",
    "        for subitem in items:\n",
    "            s = s + self._hashlist[subitem]\n",
    "        self._hashlist[rootdir] = self.md5sum(s)\n",
    "\n",
    "    def HashListChild(self, rootdir):\n",
    "        items = self.GetItems(rootdir)\n",
    "        if not items:\n",
    "            self._hashlist[rootdir] = ''\n",
    "            return\n",
    "        for item in items:\n",
    "            itemname = os.path.join(rootdir, item)\n",
    "            if os.path.isdir(itemname):\n",
    "                self.HashListChild(item)\n",
    "                subitems = self.GetItems(item)\n",
    "                s = ''\n",
    "                for subitem in subitems:\n",
    "                    s = s + self._hashlist[os.path.join(item, subitem)]\n",
    "                if rootdir == self._root:\n",
    "                    self._hashlist[item] = self.md5sum(s)\n",
    "                else:\n",
    "                    self._hashlist[itemname] = self.md5sum(s)\n",
    "            else:\n",
    "                if rootdir == self._root:\n",
    "                    self._hashlist[item] = self.md5sum(item)\n",
    "                else:\n",
    "                    self._hashlist[itemname] = self.md5sum(itemname)\n",
    " \n",
    "\n",
    "def MTDiff(mt_a, a_tophash, mt_b, b_tophash):\n",
    "    if a_tophash == b_tophash:\n",
    "        print(\"Top hash is equal for %s and %s\" % (mt_a._root, mt_b._root))\n",
    "    else:\n",
    "        a_value = mt_a._mt[a_tophash] \n",
    "        a_child = a_value[1]    # retrive the child list for merkle tree a\n",
    "        b_value = mt_b._mt[b_tophash] \n",
    "        b_child = b_value[1]    # retrive the child list for merkle tree b\n",
    "\n",
    "        for itemhash, item in a_child.items():\n",
    "            try:\n",
    "                if b_child[itemhash] == item:\n",
    "                    print(\"Info: SAME : %s\" % item)\n",
    "            except:\n",
    "                print(\"Info: DIFFERENT : %s\" % item)\n",
    "                temp_value = mt_a._mt[itemhash]\n",
    "                if len(temp_value[1]) > 0:      # check if this is a directory\n",
    "                    diffhash = list(set(b_child.keys()) - set(a_child.keys()))\n",
    "                    MTDiff(mt_a, itemhash, mt_b, diffhash[0])\n",
    "                    \n",
    "                    \n",
    "if __name__ == \"__main__\":\n",
    "    mt_a = MarkleTree('testA')\n",
    "    print(mt_a._mt)\n",
    "    mt_b = MarkleTree('testB')\n",
    "    MTDiff(mt_a, mt_a._tophash, mt_b, mt_b._tophash)"
   ]
  },
  {
   "cell_type": "code",
   "execution_count": 8,
   "metadata": {},
   "outputs": [],
   "source": [
    "class Block(Transaction) :\n",
    "    \n",
    "    def __init__(self,header,hash_tree):\n",
    "        self.header = header\n",
    "        self.hash_tree = hash_tree\n",
    "        return\n",
    "    \n",
    "\n",
    "        "
   ]
  },
  {
   "cell_type": "code",
   "execution_count": null,
   "metadata": {},
   "outputs": [],
   "source": [
    "class Blockchain(Transaction):\n",
    "    \n",
    "    def __init__(self,blocks,target):\n",
    "        self.blocks = blocks\n",
    "        self.target = target\n",
    "        \n",
    "    def add():\n",
    "        \n",
    "        "
   ]
  },
  {
   "cell_type": "code",
   "execution_count": null,
   "metadata": {},
   "outputs": [],
   "source": [
    "target = '\\x00\\x00\\x0f\\xff\\xff\\xff...\\xff'"
   ]
  }
 ],
 "metadata": {
  "kernelspec": {
   "display_name": "Python 3",
   "language": "python",
   "name": "python3"
  },
  "language_info": {
   "codemirror_mode": {
    "name": "ipython",
    "version": 3
   },
   "file_extension": ".py",
   "mimetype": "text/x-python",
   "name": "python",
   "nbconvert_exporter": "python",
   "pygments_lexer": "ipython3",
   "version": "3.6.4"
  }
 },
 "nbformat": 4,
 "nbformat_minor": 2
}
